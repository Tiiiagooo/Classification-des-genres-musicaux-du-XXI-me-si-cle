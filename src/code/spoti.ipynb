{
 "cells": [
  {
   "cell_type": "markdown",
   "metadata": {},
   "source": [
    "# Récupération jeu de données"
   ]
  },
  {
   "cell_type": "markdown",
   "metadata": {
    "id": "ZWGBy1AFSqfH"
   },
   "source": [
    "Pour la documentation api Spotify\n",
    "\n",
    "\n",
    "\n",
    "*   https://spotifypy.readthedocs.io/en/latest/api.html\n",
    "*   https://github.com/spotipy-dev/spotipy/blob/master/examples/search.py\n",
    "*   https://pypi.org/project/spotipy/\n",
    "\n",
    "\n",
    "\n",
    "\n",
    "\n",
    "\n"
   ]
  },
  {
   "cell_type": "markdown",
   "metadata": {},
   "source": [
    "## Installation de l'api SPOTIFY"
   ]
  },
  {
   "cell_type": "code",
   "execution_count": 1,
   "metadata": {
    "colab": {
     "base_uri": "https://localhost:8080/"
    },
    "id": "Rs7yNuYMO2-9",
    "outputId": "8394ecdd-8a82-404b-956e-2634571b8c25",
    "scrolled": true
   },
   "outputs": [],
   "source": [
    " # Installation des packages pour Spotify\n",
    "#pip install spotipy "
   ]
  },
  {
   "cell_type": "markdown",
   "metadata": {},
   "source": [
    "## Import des librairies"
   ]
  },
  {
   "cell_type": "code",
   "execution_count": 2,
   "metadata": {},
   "outputs": [],
   "source": [
    "import tqdm\n",
    "import glob\n",
    "\n",
    "import spotipy\n",
    "from spotipy.oauth2 import SpotifyClientCredentials"
   ]
  },
  {
   "cell_type": "code",
   "execution_count": 3,
   "metadata": {},
   "outputs": [],
   "source": [
    "from function.function import get_token\n",
    "\n",
    "chemin = \"../data/token/*\"\n",
    "liste_txt_file = glob.glob(chemin)\n",
    "\n",
    "GENIUS_ACCESS_TOKEN = None\n",
    "SPOTIFY_client_id = None\n",
    "SPOTIFY_client_secret = None\n",
    "\n",
    "\n",
    "GENIUS_ACCESS_TOKEN, SPOTIFY_client_id, SPOTIFY_client_secret = get_token(liste_txt_file)"
   ]
  },
  {
   "cell_type": "code",
   "execution_count": 4,
   "metadata": {
    "colab": {
     "base_uri": "https://localhost:8080/"
    },
    "id": "UPiV70pHPAov",
    "outputId": "153b68e9-be5f-4b25-ee18-b1c250062c0f"
   },
   "outputs": [
    {
     "ename": "SpotifyOauthError",
     "evalue": "error: invalid_client, error_description: Invalid client",
     "output_type": "error",
     "traceback": [
      "\u001b[1;31m---------------------------------------------------------------------------\u001b[0m",
      "\u001b[1;31mHTTPError\u001b[0m                                 Traceback (most recent call last)",
      "File \u001b[1;32m~\\anaconda3\\envs\\env_proj_classification_music\\Lib\\site-packages\\spotipy\\oauth2.py:256\u001b[0m, in \u001b[0;36mSpotifyClientCredentials._request_access_token\u001b[1;34m(self)\u001b[0m\n\u001b[0;32m    248\u001b[0m response \u001b[38;5;241m=\u001b[39m \u001b[38;5;28mself\u001b[39m\u001b[38;5;241m.\u001b[39m_session\u001b[38;5;241m.\u001b[39mpost(\n\u001b[0;32m    249\u001b[0m     \u001b[38;5;28mself\u001b[39m\u001b[38;5;241m.\u001b[39mOAUTH_TOKEN_URL,\n\u001b[0;32m    250\u001b[0m     data\u001b[38;5;241m=\u001b[39mpayload,\n\u001b[1;32m   (...)\u001b[0m\n\u001b[0;32m    254\u001b[0m     timeout\u001b[38;5;241m=\u001b[39m\u001b[38;5;28mself\u001b[39m\u001b[38;5;241m.\u001b[39mrequests_timeout,\n\u001b[0;32m    255\u001b[0m )\n\u001b[1;32m--> 256\u001b[0m response\u001b[38;5;241m.\u001b[39mraise_for_status()\n\u001b[0;32m    257\u001b[0m token_info \u001b[38;5;241m=\u001b[39m response\u001b[38;5;241m.\u001b[39mjson()\n",
      "File \u001b[1;32m~\\anaconda3\\envs\\env_proj_classification_music\\Lib\\site-packages\\requests\\models.py:1024\u001b[0m, in \u001b[0;36mResponse.raise_for_status\u001b[1;34m(self)\u001b[0m\n\u001b[0;32m   1023\u001b[0m \u001b[38;5;28;01mif\u001b[39;00m http_error_msg:\n\u001b[1;32m-> 1024\u001b[0m     \u001b[38;5;28;01mraise\u001b[39;00m HTTPError(http_error_msg, response\u001b[38;5;241m=\u001b[39m\u001b[38;5;28mself\u001b[39m)\n",
      "\u001b[1;31mHTTPError\u001b[0m: 400 Client Error: Bad Request for url: https://accounts.spotify.com/api/token",
      "\nDuring handling of the above exception, another exception occurred:\n",
      "\u001b[1;31mSpotifyOauthError\u001b[0m                         Traceback (most recent call last)",
      "Cell \u001b[1;32mIn[4], line 7\u001b[0m\n\u001b[0;32m      5\u001b[0m Liste_artiste_titre \u001b[38;5;241m=\u001b[39m []\n\u001b[0;32m      6\u001b[0m nom_artiste \u001b[38;5;241m=\u001b[39m \u001b[38;5;124m'\u001b[39m\u001b[38;5;124mdrake\u001b[39m\u001b[38;5;124m'\u001b[39m\n\u001b[1;32m----> 7\u001b[0m results \u001b[38;5;241m=\u001b[39m sp\u001b[38;5;241m.\u001b[39msearch(q\u001b[38;5;241m=\u001b[39mnom_artiste, limit\u001b[38;5;241m=\u001b[39m\u001b[38;5;241m20\u001b[39m) \u001b[38;5;66;03m# requete de la recherche\u001b[39;00m\n\u001b[0;32m      8\u001b[0m \u001b[38;5;28;01mif\u001b[39;00m \u001b[38;5;124m'\u001b[39m\u001b[38;5;124mtracks\u001b[39m\u001b[38;5;124m'\u001b[39m \u001b[38;5;129;01min\u001b[39;00m results \u001b[38;5;129;01mand\u001b[39;00m \u001b[38;5;124m'\u001b[39m\u001b[38;5;124mitems\u001b[39m\u001b[38;5;124m'\u001b[39m \u001b[38;5;129;01min\u001b[39;00m results[\u001b[38;5;124m'\u001b[39m\u001b[38;5;124mtracks\u001b[39m\u001b[38;5;124m'\u001b[39m]:\n\u001b[0;32m      9\u001b[0m     Liste_artiste_titre \u001b[38;5;241m=\u001b[39m [(idx, nom_artiste, data[\u001b[38;5;124m'\u001b[39m\u001b[38;5;124mname\u001b[39m\u001b[38;5;124m'\u001b[39m]) \u001b[38;5;28;01mfor\u001b[39;00m idx, data \u001b[38;5;129;01min\u001b[39;00m \u001b[38;5;28menumerate\u001b[39m(results[\u001b[38;5;124m'\u001b[39m\u001b[38;5;124mtracks\u001b[39m\u001b[38;5;124m'\u001b[39m][\u001b[38;5;124m'\u001b[39m\u001b[38;5;124mitems\u001b[39m\u001b[38;5;124m'\u001b[39m])]\n",
      "File \u001b[1;32m~\\anaconda3\\envs\\env_proj_classification_music\\Lib\\site-packages\\spotipy\\client.py:602\u001b[0m, in \u001b[0;36mSpotify.search\u001b[1;34m(self, q, limit, offset, type, market)\u001b[0m\n\u001b[0;32m    587\u001b[0m \u001b[38;5;28;01mdef\u001b[39;00m \u001b[38;5;21msearch\u001b[39m(\u001b[38;5;28mself\u001b[39m, q, limit\u001b[38;5;241m=\u001b[39m\u001b[38;5;241m10\u001b[39m, offset\u001b[38;5;241m=\u001b[39m\u001b[38;5;241m0\u001b[39m, \u001b[38;5;28mtype\u001b[39m\u001b[38;5;241m=\u001b[39m\u001b[38;5;124m\"\u001b[39m\u001b[38;5;124mtrack\u001b[39m\u001b[38;5;124m\"\u001b[39m, market\u001b[38;5;241m=\u001b[39m\u001b[38;5;28;01mNone\u001b[39;00m):\n\u001b[0;32m    588\u001b[0m \u001b[38;5;250m    \u001b[39m\u001b[38;5;124;03m\"\"\" searches for an item\u001b[39;00m\n\u001b[0;32m    589\u001b[0m \n\u001b[0;32m    590\u001b[0m \u001b[38;5;124;03m        Parameters:\u001b[39;00m\n\u001b[1;32m   (...)\u001b[0m\n\u001b[0;32m    600\u001b[0m \u001b[38;5;124;03m                       from_token.\u001b[39;00m\n\u001b[0;32m    601\u001b[0m \u001b[38;5;124;03m    \"\"\"\u001b[39;00m\n\u001b[1;32m--> 602\u001b[0m     \u001b[38;5;28;01mreturn\u001b[39;00m \u001b[38;5;28mself\u001b[39m\u001b[38;5;241m.\u001b[39m_get(\n\u001b[0;32m    603\u001b[0m         \u001b[38;5;124m\"\u001b[39m\u001b[38;5;124msearch\u001b[39m\u001b[38;5;124m\"\u001b[39m, q\u001b[38;5;241m=\u001b[39mq, limit\u001b[38;5;241m=\u001b[39mlimit, offset\u001b[38;5;241m=\u001b[39moffset, \u001b[38;5;28mtype\u001b[39m\u001b[38;5;241m=\u001b[39m\u001b[38;5;28mtype\u001b[39m, market\u001b[38;5;241m=\u001b[39mmarket\n\u001b[0;32m    604\u001b[0m     )\n",
      "File \u001b[1;32m~\\anaconda3\\envs\\env_proj_classification_music\\Lib\\site-packages\\spotipy\\client.py:327\u001b[0m, in \u001b[0;36mSpotify._get\u001b[1;34m(self, url, args, payload, **kwargs)\u001b[0m\n\u001b[0;32m    324\u001b[0m \u001b[38;5;28;01mif\u001b[39;00m args:\n\u001b[0;32m    325\u001b[0m     kwargs\u001b[38;5;241m.\u001b[39mupdate(args)\n\u001b[1;32m--> 327\u001b[0m \u001b[38;5;28;01mreturn\u001b[39;00m \u001b[38;5;28mself\u001b[39m\u001b[38;5;241m.\u001b[39m_internal_call(\u001b[38;5;124m\"\u001b[39m\u001b[38;5;124mGET\u001b[39m\u001b[38;5;124m\"\u001b[39m, url, payload, kwargs)\n",
      "File \u001b[1;32m~\\anaconda3\\envs\\env_proj_classification_music\\Lib\\site-packages\\spotipy\\client.py:251\u001b[0m, in \u001b[0;36mSpotify._internal_call\u001b[1;34m(self, method, url, payload, params)\u001b[0m\n\u001b[0;32m    249\u001b[0m \u001b[38;5;28;01mif\u001b[39;00m \u001b[38;5;129;01mnot\u001b[39;00m url\u001b[38;5;241m.\u001b[39mstartswith(\u001b[38;5;124m\"\u001b[39m\u001b[38;5;124mhttp\u001b[39m\u001b[38;5;124m\"\u001b[39m):\n\u001b[0;32m    250\u001b[0m     url \u001b[38;5;241m=\u001b[39m \u001b[38;5;28mself\u001b[39m\u001b[38;5;241m.\u001b[39mprefix \u001b[38;5;241m+\u001b[39m url\n\u001b[1;32m--> 251\u001b[0m headers \u001b[38;5;241m=\u001b[39m \u001b[38;5;28mself\u001b[39m\u001b[38;5;241m.\u001b[39m_auth_headers()\n\u001b[0;32m    253\u001b[0m \u001b[38;5;28;01mif\u001b[39;00m \u001b[38;5;124m\"\u001b[39m\u001b[38;5;124mcontent_type\u001b[39m\u001b[38;5;124m\"\u001b[39m \u001b[38;5;129;01min\u001b[39;00m args[\u001b[38;5;124m\"\u001b[39m\u001b[38;5;124mparams\u001b[39m\u001b[38;5;124m\"\u001b[39m]:\n\u001b[0;32m    254\u001b[0m     headers[\u001b[38;5;124m\"\u001b[39m\u001b[38;5;124mContent-Type\u001b[39m\u001b[38;5;124m\"\u001b[39m] \u001b[38;5;241m=\u001b[39m args[\u001b[38;5;124m\"\u001b[39m\u001b[38;5;124mparams\u001b[39m\u001b[38;5;124m\"\u001b[39m][\u001b[38;5;124m\"\u001b[39m\u001b[38;5;124mcontent_type\u001b[39m\u001b[38;5;124m\"\u001b[39m]\n",
      "File \u001b[1;32m~\\anaconda3\\envs\\env_proj_classification_music\\Lib\\site-packages\\spotipy\\client.py:242\u001b[0m, in \u001b[0;36mSpotify._auth_headers\u001b[1;34m(self)\u001b[0m\n\u001b[0;32m    240\u001b[0m     \u001b[38;5;28;01mreturn\u001b[39;00m {}\n\u001b[0;32m    241\u001b[0m \u001b[38;5;28;01mtry\u001b[39;00m:\n\u001b[1;32m--> 242\u001b[0m     token \u001b[38;5;241m=\u001b[39m \u001b[38;5;28mself\u001b[39m\u001b[38;5;241m.\u001b[39mauth_manager\u001b[38;5;241m.\u001b[39mget_access_token(as_dict\u001b[38;5;241m=\u001b[39m\u001b[38;5;28;01mFalse\u001b[39;00m)\n\u001b[0;32m    243\u001b[0m \u001b[38;5;28;01mexcept\u001b[39;00m \u001b[38;5;167;01mTypeError\u001b[39;00m:\n\u001b[0;32m    244\u001b[0m     token \u001b[38;5;241m=\u001b[39m \u001b[38;5;28mself\u001b[39m\u001b[38;5;241m.\u001b[39mauth_manager\u001b[38;5;241m.\u001b[39mget_access_token()\n",
      "File \u001b[1;32m~\\anaconda3\\envs\\env_proj_classification_music\\Lib\\site-packages\\spotipy\\oauth2.py:229\u001b[0m, in \u001b[0;36mSpotifyClientCredentials.get_access_token\u001b[1;34m(self, as_dict, check_cache)\u001b[0m\n\u001b[0;32m    226\u001b[0m     \u001b[38;5;28;01mif\u001b[39;00m token_info \u001b[38;5;129;01mand\u001b[39;00m \u001b[38;5;129;01mnot\u001b[39;00m \u001b[38;5;28mself\u001b[39m\u001b[38;5;241m.\u001b[39mis_token_expired(token_info):\n\u001b[0;32m    227\u001b[0m         \u001b[38;5;28;01mreturn\u001b[39;00m token_info \u001b[38;5;28;01mif\u001b[39;00m as_dict \u001b[38;5;28;01melse\u001b[39;00m token_info[\u001b[38;5;124m\"\u001b[39m\u001b[38;5;124maccess_token\u001b[39m\u001b[38;5;124m\"\u001b[39m]\n\u001b[1;32m--> 229\u001b[0m token_info \u001b[38;5;241m=\u001b[39m \u001b[38;5;28mself\u001b[39m\u001b[38;5;241m.\u001b[39m_request_access_token()\n\u001b[0;32m    230\u001b[0m token_info \u001b[38;5;241m=\u001b[39m \u001b[38;5;28mself\u001b[39m\u001b[38;5;241m.\u001b[39m_add_custom_values_to_token_info(token_info)\n\u001b[0;32m    231\u001b[0m \u001b[38;5;28mself\u001b[39m\u001b[38;5;241m.\u001b[39mcache_handler\u001b[38;5;241m.\u001b[39msave_token_to_cache(token_info)\n",
      "File \u001b[1;32m~\\anaconda3\\envs\\env_proj_classification_music\\Lib\\site-packages\\spotipy\\oauth2.py:260\u001b[0m, in \u001b[0;36mSpotifyClientCredentials._request_access_token\u001b[1;34m(self)\u001b[0m\n\u001b[0;32m    258\u001b[0m     \u001b[38;5;28;01mreturn\u001b[39;00m token_info\n\u001b[0;32m    259\u001b[0m \u001b[38;5;28;01mexcept\u001b[39;00m requests\u001b[38;5;241m.\u001b[39mexceptions\u001b[38;5;241m.\u001b[39mHTTPError \u001b[38;5;28;01mas\u001b[39;00m http_error:\n\u001b[1;32m--> 260\u001b[0m     \u001b[38;5;28mself\u001b[39m\u001b[38;5;241m.\u001b[39m_handle_oauth_error(http_error)\n",
      "File \u001b[1;32m~\\anaconda3\\envs\\env_proj_classification_music\\Lib\\site-packages\\spotipy\\oauth2.py:139\u001b[0m, in \u001b[0;36mSpotifyAuthBase._handle_oauth_error\u001b[1;34m(self, http_error)\u001b[0m\n\u001b[0;32m    136\u001b[0m     error \u001b[38;5;241m=\u001b[39m response\u001b[38;5;241m.\u001b[39mtext \u001b[38;5;129;01mor\u001b[39;00m \u001b[38;5;28;01mNone\u001b[39;00m\n\u001b[0;32m    137\u001b[0m     error_description \u001b[38;5;241m=\u001b[39m \u001b[38;5;28;01mNone\u001b[39;00m\n\u001b[1;32m--> 139\u001b[0m \u001b[38;5;28;01mraise\u001b[39;00m SpotifyOauthError(\n\u001b[0;32m    140\u001b[0m     \u001b[38;5;124mf\u001b[39m\u001b[38;5;124m'\u001b[39m\u001b[38;5;124merror: \u001b[39m\u001b[38;5;132;01m{\u001b[39;00merror\u001b[38;5;132;01m}\u001b[39;00m\u001b[38;5;124m, error_description: \u001b[39m\u001b[38;5;132;01m{\u001b[39;00merror_description\u001b[38;5;132;01m}\u001b[39;00m\u001b[38;5;124m'\u001b[39m,\n\u001b[0;32m    141\u001b[0m     error\u001b[38;5;241m=\u001b[39merror,\n\u001b[0;32m    142\u001b[0m     error_description\u001b[38;5;241m=\u001b[39merror_description\n\u001b[0;32m    143\u001b[0m )\n",
      "\u001b[1;31mSpotifyOauthError\u001b[0m: error: invalid_client, error_description: Invalid client"
     ]
    }
   ],
   "source": [
    "#identifiant spotify\n",
    "sp = spotipy.Spotify(auth_manager=SpotifyClientCredentials(client_id=SPOTIFY_client_id,\n",
    "                                                           client_secret=SPOTIFY_client_secret))\n",
    "\n",
    "Liste_artiste_titre = []\n",
    "nom_artiste = 'drake'\n",
    "results = sp.search(q=nom_artiste, limit=20) # requete de la recherche\n",
    "if 'tracks' in results and 'items' in results['tracks']:\n",
    "    Liste_artiste_titre = [(idx, nom_artiste, data['name']) for idx, data in enumerate(results['tracks']['items'])]"
   ]
  },
  {
   "cell_type": "code",
   "execution_count": null,
   "metadata": {},
   "outputs": [],
   "source": [
    "from function.funcion import get_lyrics_from_genius\n",
    "for idx, artist_name, song_title in Liste_artiste_titre:\n",
    "    lyrics_url = get_lyrics_from_genius(song_title, artist_name)\n",
    "    if lyrics_url:\n",
    "        print(f\"{artist_name}, {song_title}: {lyrics_url}\")\n",
    "    else:\n",
    "        print(\"Lyrics not found on Genius.\")"
   ]
  },
  {
   "cell_type": "code",
   "execution_count": null,
   "metadata": {},
   "outputs": [],
   "source": []
  }
 ],
 "metadata": {
  "colab": {
   "provenance": []
  },
  "kernelspec": {
   "display_name": "Python (env_proj_classification_music)",
   "language": "python",
   "name": "env_proj_classification_music"
  },
  "language_info": {
   "codemirror_mode": {
    "name": "ipython",
    "version": 3
   },
   "file_extension": ".py",
   "mimetype": "text/x-python",
   "name": "python",
   "nbconvert_exporter": "python",
   "pygments_lexer": "ipython3",
   "version": "3.11.9"
  },
  "toc": {
   "base_numbering": 1,
   "nav_menu": {},
   "number_sections": true,
   "sideBar": true,
   "skip_h1_title": false,
   "title_cell": "Table of Contents",
   "title_sidebar": "Contents",
   "toc_cell": false,
   "toc_position": {},
   "toc_section_display": true,
   "toc_window_display": false
  }
 },
 "nbformat": 4,
 "nbformat_minor": 4
}
